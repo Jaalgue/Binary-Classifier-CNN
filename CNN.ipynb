{
 "cells": [
  {
   "cell_type": "code",
   "execution_count": 11,
   "id": "6f1d91b6",
   "metadata": {},
   "outputs": [
    {
     "ename": "ModuleNotFoundError",
     "evalue": "No module named 'copyfile'",
     "output_type": "error",
     "traceback": [
      "\u001b[1;31m---------------------------------------------------------------------------\u001b[0m",
      "\u001b[1;31mModuleNotFoundError\u001b[0m                       Traceback (most recent call last)",
      "Cell \u001b[1;32mIn[11], line 7\u001b[0m\n\u001b[0;32m      5\u001b[0m \u001b[39mimport\u001b[39;00m \u001b[39mtorch\u001b[39;00m\n\u001b[0;32m      6\u001b[0m \u001b[39mimport\u001b[39;00m \u001b[39mrandom\u001b[39;00m\n\u001b[1;32m----> 7\u001b[0m \u001b[39mimport\u001b[39;00m \u001b[39mcopyfile\u001b[39;00m\n",
      "\u001b[1;31mModuleNotFoundError\u001b[0m: No module named 'copyfile'"
     ]
    }
   ],
   "source": [
    "import cv2 as cv\n",
    "import numpy as np\n",
    "import os\n",
    "import shutil\n",
    "import torch\n",
    "import random"
   ]
  },
  {
   "cell_type": "code",
   "execution_count": null,
   "id": "c3970481",
   "metadata": {},
   "outputs": [],
   "source": [
    "def filter(image, debug = 0):\n",
    "    #Pasamos la imagen a una escala de grises\n",
    "    gray = cv.cvtColor(image, cv.COLOR_BGR2GRAY)\n",
    "    #Aplicamos un filtro gausiano para eliminar ruido\n",
    "    blur = cv.GaussianBlur(gray, (5, 5), 0)\n",
    "    #Convertimos la imagen a blanco y negro\n",
    "    ret, thresh = cv.threshold(blur, 75, 255, cv.THRESH_BINARY_INV)\n",
    "    #Mostramos la imagen si es necesario\n",
    "    if debug != 0:\n",
    "        cv.imwrite(\"filter.png\", thresh)\n",
    "    return ret, thresh\n",
    "\n",
    "def centroid(image, debug = 0):\n",
    "    #Encontramos todos los contornos\n",
    "    contours, hierarchies = cv.findContours(image, cv.RETR_LIST, cv.CHAIN_APPROX_SIMPLE)\n",
    "\n",
    "    if len(contours) != 0:  \n",
    "        #Escogemos el contorno con mayor area\n",
    "        c = max(contours, key = cv.contourArea)\n",
    "        #Realizamos el cálculo de los centroides\n",
    "        M = cv.moments(c)\n",
    "        if M['m00'] != 0:\n",
    "            cx = int(M['m10']/M['m00'])\n",
    "            cy = int(M['m01']/M['m00'])\n",
    "            if debug != 0:\n",
    "                print(f\"x: {cx} y: {cy}\")\n",
    "    return cx, cy"
   ]
  },
  {
   "cell_type": "code",
   "execution_count": null,
   "id": "8eb35e23",
   "metadata": {},
   "outputs": [],
   "source": [
    "def crop(path, new_path):\n",
    "    for item in os.listdir(path):\n",
    "        if os.path.isfile(os.path.join(path, item)):\n",
    "            image = cv.imread(os.path.join(path, item))\n",
    "            if image is not None:\n",
    "                ret, thresh = filter(image)\n",
    "                cx, cy = centroid(thresh)\n",
    "                w = 215\n",
    "                imageOut = image[cy-w:cy+w+1, cx-w:cx+w+1]\n",
    "                try:\n",
    "                    cv.imwrite(os.path.join(new_path, item), imageOut)\n",
    "                except:\n",
    "                    continue"
   ]
  },
  {
   "cell_type": "code",
   "execution_count": null,
   "id": "22aa5681",
   "metadata": {},
   "outputs": [],
   "source": [
    "no_fail_path = \"Dataset/Original/Sin Fallo\"\n",
    "fail_path = \"Dataset/Original/Con Fallo\"\n",
    "\n",
    "new_no_fail_path =  \"Dataset/Cortado/Sin Fallo\"\n",
    "new_fail_path =  \"Dataset/Cortado/Con Fallo\"\n",
    "\n",
    "if os.path.exists(new_no_fail_path): shutil.rmtree(new_no_fail_path)\n",
    "os.makedirs(new_no_fail_path)\n",
    "\n",
    "if os.path.exists(new_fail_path): shutil.rmtree(new_fail_path)\n",
    "os.makedirs(new_fail_path)\n",
    "\n",
    "crop(no_fail_path, new_no_fail_path)\n",
    "crop(fail_path, new_fail_path)"
   ]
  },
  {
   "cell_type": "code",
   "execution_count": null,
   "id": "a472f046",
   "metadata": {},
   "outputs": [
    {
     "name": "stdout",
     "output_type": "stream",
     "text": [
      "Using PyTorch version: 1.13.0  Device: cuda\n"
     ]
    }
   ],
   "source": [
    "#Comprobamos si disponemos de GPU\n",
    "if torch.cuda.is_available():\n",
    "    device = torch.device('cuda')\n",
    "else:\n",
    "    device = torch.device('cpu')\n",
    "    \n",
    "print('Using PyTorch version:', torch.__version__, ' Device:', device)"
   ]
  },
  {
   "cell_type": "code",
   "execution_count": null,
   "id": "fa20e5ad",
   "metadata": {},
   "outputs": [],
   "source": [
    "def split_data(SOURCE_DIR, TRAINING_DIR, VALIDATION_DIR, TEST_DIR):\n",
    "    #Get a list of all the file names\n",
    "    images = list(file for file in os.listdir(SOURCE_DIR) if os.path.isfile(os.path.join(SOURCE_DIR, file)))\n",
    "    #Now that we have our image filenames, we randomly shuffle them to be used for validation and training\n",
    "    images = random.sample(images, len(images))\n",
    "    #In this section, I decided to split data with the following ratio: 10% validation data, 90% training data. I first populate validation data \n",
    "    for i in range(len(images)):\n",
    "        if i < len(images) *(0.08):\n",
    "            shutil.copyfile(os.path.join(SOURCE_DIR, images[i]), os.path.join(TEST_DIR, images[i]))\n",
    "        elif i < len(images) *(0.28):\n",
    "            shutil.copyfile(os.path.join(SOURCE_DIR, images[i]), os.path.join(VALIDATION_DIR, images[i]))\n",
    "        else:\n",
    "            shutil.copyfile(os.path.join(SOURCE_DIR, images[i]), os.path.join(TRAINING_DIR, images[i]))"
   ]
  },
  {
   "cell_type": "code",
   "execution_count": null,
   "id": "e0418990",
   "metadata": {},
   "outputs": [],
   "source": [
    "TRAIN_PATH = \"Dataset/train\" #Ruta de los datos de entrenamiento\n",
    "VAL_PATH = \"Dataset/validation\" #Ruta de los datos de validación\n",
    "TEST_PATH = \"Dataset/test\" #Ruta de los datos de test\n",
    "\n",
    "if os.path.exists(TRAIN_PATH): shutil.rmtree(TRAIN_PATH)\n",
    "os.makedirs(TRAIN_PATH)\n",
    "\n",
    "if os.path.exists(VAL_PATH): shutil.rmtree(VAL_PATH)\n",
    "os.makedirs(VAL_PATH)\n",
    "\n",
    "if os.path.exists(TEST_PATH): shutil.rmtree(TEST_PATH)\n",
    "os.makedirs(TEST_PATH)\n",
    "\n",
    "split_data(new_no_fail_path, TRAIN_PATH, VAL_PATH, TEST_PATH)\n",
    "split_data(new_fail_path, TRAIN_PATH, VAL_PATH, TEST_PATH)"
   ]
  }
 ],
 "metadata": {
  "kernelspec": {
   "display_name": "base",
   "language": "python",
   "name": "python3"
  },
  "language_info": {
   "codemirror_mode": {
    "name": "ipython",
    "version": 3
   },
   "file_extension": ".py",
   "mimetype": "text/x-python",
   "name": "python",
   "nbconvert_exporter": "python",
   "pygments_lexer": "ipython3",
   "version": "3.9.15"
  },
  "vscode": {
   "interpreter": {
    "hash": "d9637665aa80e77104db02ec0629c5c9ee9f67c95c85b703d7a1361244bba5f1"
   }
  }
 },
 "nbformat": 4,
 "nbformat_minor": 5
}
