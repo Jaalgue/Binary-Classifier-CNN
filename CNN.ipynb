{
 "cells": [
  {
   "cell_type": "code",
   "execution_count": 1,
   "id": "6f1d91b6",
   "metadata": {},
   "outputs": [],
   "source": [
    "import cv2 as cv\n",
    "import numpy as np\n",
    "import os\n",
    "import shutil"
   ]
  },
  {
   "cell_type": "code",
   "execution_count": 2,
   "id": "c3970481",
   "metadata": {},
   "outputs": [],
   "source": [
    "def filter(image, debug = 0):\n",
    "    #Pasamos la imagen a una escala de grises\n",
    "    gray = cv.cvtColor(image, cv.COLOR_BGR2GRAY)\n",
    "    #Aplicamos un filtro gausiano para eliminar ruido\n",
    "    blur = cv.GaussianBlur(gray, (5, 5), 0)\n",
    "    #Convertimos la imagen a blanco y negro\n",
    "    ret, thresh = cv.threshold(blur, 75, 255, cv.THRESH_BINARY_INV)\n",
    "    #Mostramos la imagen si es necesario\n",
    "    if debug != 0:\n",
    "        cv.imwrite(\"filter.png\", thresh)\n",
    "    return ret, thresh\n",
    "\n",
    "def centroid(image, debug = 0):\n",
    "    #Encontramos todos los contornos\n",
    "    contours, hierarchies = cv.findContours(image, cv.RETR_LIST, cv.CHAIN_APPROX_SIMPLE)\n",
    "\n",
    "    if len(contours) != 0:  \n",
    "        #Escogemos el contorno con mayor area\n",
    "        c = max(contours, key = cv.contourArea)\n",
    "        #Realizamos el cálculo de los centroides\n",
    "        M = cv.moments(c)\n",
    "        if M['m00'] != 0:\n",
    "            cx = int(M['m10']/M['m00'])\n",
    "            cy = int(M['m01']/M['m00'])\n",
    "            if debug != 0:\n",
    "                print(f\"x: {cx} y: {cy}\")\n",
    "    return cx, cy"
   ]
  },
  {
   "cell_type": "code",
   "execution_count": 3,
   "id": "8eb35e23",
   "metadata": {},
   "outputs": [],
   "source": [
    "def crop(path, new_path):\n",
    "    for item in os.listdir(path):\n",
    "        if os.path.isfile(os.path.join(path, item)):\n",
    "            image = cv.imread(os.path.join(path, item))\n",
    "            if image is not None:\n",
    "                ret, thresh = filter(image)\n",
    "                cx, cy = centroid(thresh)\n",
    "                w = 215\n",
    "                imageOut = image[cy-w:cy+w+1, cx-w:cx+w+1]\n",
    "                try:\n",
    "                    cv.imwrite(os.path.join(new_path, item), imageOut)\n",
    "                except:\n",
    "                    continue"
   ]
  },
  {
   "cell_type": "code",
   "execution_count": 4,
   "id": "22aa5681",
   "metadata": {},
   "outputs": [],
   "source": [
    "#Comprobar las rutas y crearlas si es necesario HACER\n",
    "no_fail_path = \"Dataset/Original/Sin Fallo\"\n",
    "fail_path = \"Dataset/Original/Con Fallo\"\n",
    "\n",
    "new_no_fail_path =  \"Dataset/Cortado/Sin Fallo\"\n",
    "new_fail_path =  \"Dataset/Cortado/Con Fallo\"\n",
    "\n",
    "if os.path.exists(new_no_fail_path): shutil.rmtree(new_no_fail_path)\n",
    "os.makedirs(new_no_fail_path)\n",
    "\n",
    "if os.path.exists(new_fail_path): shutil.rmtree(new_fail_path)\n",
    "os.makedirs(new_fail_path)\n",
    "\n",
    "crop(no_fail_path, new_no_fail_path)\n",
    "crop(fail_path, new_fail_path)"
   ]
  }
 ],
 "metadata": {
  "kernelspec": {
   "display_name": "base",
   "language": "python",
   "name": "python3"
  },
  "language_info": {
   "codemirror_mode": {
    "name": "ipython",
    "version": 3
   },
   "file_extension": ".py",
   "mimetype": "text/x-python",
   "name": "python",
   "nbconvert_exporter": "python",
   "pygments_lexer": "ipython3",
   "version": "3.9.15 (main, Nov 24 2022, 14:39:17) [MSC v.1916 64 bit (AMD64)]"
  },
  "vscode": {
   "interpreter": {
    "hash": "d9637665aa80e77104db02ec0629c5c9ee9f67c95c85b703d7a1361244bba5f1"
   }
  }
 },
 "nbformat": 4,
 "nbformat_minor": 5
}
